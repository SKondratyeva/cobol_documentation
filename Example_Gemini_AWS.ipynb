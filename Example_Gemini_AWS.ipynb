{
  "cells": [
    {
      "cell_type": "code",
      "id": "k4dL806d1GkQeEOZCDbbzYht",
      "metadata": {
        "tags": [],
        "id": "k4dL806d1GkQeEOZCDbbzYht"
      },
      "source": [
        "!pip install -q -U google-generativeai"
      ],
      "execution_count": 1,
      "outputs": []
    },
    {
      "cell_type": "code",
      "source": [
        "import google.generativeai as genai\n",
        "import re\n",
        "from typing import List, Dict\n",
        "\n",
        "API_KEY = ''\n",
        "genai.configure(api_key=API_KEY)"
      ],
      "metadata": {
        "id": "sQ5jgjnSPkcy"
      },
      "id": "sQ5jgjnSPkcy",
      "execution_count": 6,
      "outputs": []
    },
    {
      "cell_type": "code",
      "source": [
        "model = genai.GenerativeModel(\"gemini-1.5-flash\")"
      ],
      "metadata": {
        "id": "vHl4ZFc1P-ur"
      },
      "id": "vHl4ZFc1P-ur",
      "execution_count": null,
      "outputs": []
    },
    {
      "cell_type": "markdown",
      "source": [
        "### Test with AWS cobol program file\n"
      ],
      "metadata": {
        "id": "1AY3WWj8YGm1"
      },
      "id": "1AY3WWj8YGm1"
    },
    {
      "cell_type": "code",
      "source": [
        "def read_cobol_file(file_path: str) -> str:\n",
        "    \"\"\"\n",
        "    Reads a COBOL file and preprocesses it.\n",
        "    Args:\n",
        "        file_path (str): Path to the COBOL file.\n",
        "    Returns:\n",
        "        str: The content of the COBOL file after preprocessing.\n",
        "    \"\"\"\n",
        "    try:\n",
        "        with open(file_path, \"r\") as file:\n",
        "            # Read the file content\n",
        "            content = file.readlines()\n",
        "\n",
        "        # Preprocess the content\n",
        "        preprocessed_content = []\n",
        "        for line in content:\n",
        "            # Remove inline comments (e.g., '*' in column 7 for COBOL)\n",
        "            if len(line) > 6 and line[6] == '*':\n",
        "                continue\n",
        "\n",
        "            # Strip trailing whitespaces and normalize line endings\n",
        "            line = line.rstrip()\n",
        "\n",
        "            # Skip empty lines\n",
        "            if not line.strip():\n",
        "                continue\n",
        "\n",
        "            preprocessed_content.append(line)\n",
        "\n",
        "        return \"\\n\".join(preprocessed_content)\n",
        "\n",
        "    except FileNotFoundError:\n",
        "        print(f\"Error: File not found at {file_path}\")\n",
        "        return \"\"\n",
        "    except Exception as e:\n",
        "        print(f\"An error occurred: {e}\")\n",
        "        return \"\"\n",
        "\n",
        "def split_cobol_by_sections(file_content: str) -> Dict[str, str]:\n",
        "    \"\"\"\n",
        "    Splits COBOL code into sections based on divisions and paragraph headers.\n",
        "    Args:\n",
        "        file_content (str): The content of the COBOL file as a string.\n",
        "    Returns:\n",
        "        Dict[str, str]: A dictionary where keys are headers or paragraphs, and values are their corresponding content.\n",
        "    \"\"\"\n",
        "\n",
        "    division_pattern = r\"^\\s*(IDENTIFICATION|ENVIRONMENT|DATA|PROCEDURE)\\s+DIVISION.*\"\n",
        "\n",
        "    paragraph_pattern = r\"^\\s*[a-zA-Z0-9-]+\\.($|\\s)\"\n",
        "\n",
        "    combined_pattern = re.compile(f\"({division_pattern})|({paragraph_pattern})\", re.IGNORECASE | re.MULTILINE)\n",
        "\n",
        "    matches = list(combined_pattern.finditer(file_content))\n",
        "\n",
        "    chunks = {}\n",
        "\n",
        "    # Extract sections based on detected headers\n",
        "    for i, match in enumerate(matches):\n",
        "        header = match.group(0).strip()\n",
        "        start_pos = match.start()\n",
        "        end_pos = matches[i + 1].start() if i + 1 < len(matches) else len(file_content)\n",
        "        section_content = file_content[start_pos:end_pos].strip()\n",
        "        chunks[header] = section_content\n",
        "\n",
        "    return chunks"
      ],
      "metadata": {
        "id": "gxFyKc0PYwB_"
      },
      "id": "gxFyKc0PYwB_",
      "execution_count": 5,
      "outputs": []
    },
    {
      "cell_type": "markdown",
      "source": [
        "Below you can see names of all chunks which are extracted"
      ],
      "metadata": {
        "id": "PEwsA88iZC-m"
      },
      "id": "PEwsA88iZC-m"
    },
    {
      "cell_type": "code",
      "source": [
        "file_path = (r'/COTRN02C - TEST.cbl')\n",
        "file = read_cobol_file(file_path)\n",
        "chunks = split_cobol_by_sections(file)\n",
        "for i, chunk in chunks.items():\n",
        "    print(i)\n",
        ""
      ],
      "metadata": {
        "colab": {
          "base_uri": "https://localhost:8080/"
        },
        "id": "7KVjwQoqY8tr",
        "outputId": "d543b765-7223-44cd-dd1f-82b1c525af26"
      },
      "id": "7KVjwQoqY8tr",
      "execution_count": 8,
      "outputs": [
        {
          "output_type": "stream",
          "name": "stdout",
          "text": [
            "IDENTIFICATION DIVISION.\n",
            "PROGRAM-ID.\n",
            "AUTHOR.\n",
            "ENVIRONMENT DIVISION.\n",
            "DATA DIVISION.\n",
            "PROCEDURE DIVISION.\n",
            "MAIN-PARA.\n",
            "END-EXEC.\n",
            "PROCESS-ENTER-KEY.\n",
            "END-EVALUATE.\n",
            "VALIDATE-INPUT-KEY-FIELDS.\n",
            "VALIDATE-INPUT-DATA-FIELDS.\n",
            "END-IF.\n",
            "ADD-TRANSACTION.\n",
            "COPY-LAST-TRAN-DATA.\n",
            "RETURN-TO-PREV-SCREEN.\n",
            "SEND-TRNADD-SCREEN.\n",
            "RECEIVE-TRNADD-SCREEN.\n",
            "POPULATE-HEADER-INFO.\n",
            "READ-CXACAIX-FILE.\n",
            "READ-CCXREF-FILE.\n",
            "STARTBR-TRANSACT-FILE.\n",
            "READPREV-TRANSACT-FILE.\n",
            "ENDBR-TRANSACT-FILE.\n",
            "WRITE-TRANSACT-FILE.\n",
            "CLEAR-CURRENT-SCREEN.\n",
            "INITIALIZE-ALL-FIELDS.\n",
            "WS-MESSAGE.\n"
          ]
        }
      ]
    },
    {
      "cell_type": "markdown",
      "source": [
        "Let's take a closer look at the chunk VALIDATE-INPUT-KEY-FIELDS"
      ],
      "metadata": {
        "id": "NRVLTIyIZST8"
      },
      "id": "NRVLTIyIZST8"
    },
    {
      "cell_type": "code",
      "source": [
        "print(chunks['VALIDATE-INPUT-KEY-FIELDS.'])"
      ],
      "metadata": {
        "colab": {
          "base_uri": "https://localhost:8080/"
        },
        "id": "Ph2AKbdKZIf8",
        "outputId": "8db9275e-f4d7-4707-f2a0-69b9f6438e2e"
      },
      "id": "Ph2AKbdKZIf8",
      "execution_count": 9,
      "outputs": [
        {
          "output_type": "stream",
          "name": "stdout",
          "text": [
            "VALIDATE-INPUT-KEY-FIELDS.\n",
            "           EVALUATE TRUE\n",
            "               WHEN ACTIDINI OF COTRN2AI NOT = SPACES AND LOW-VALUES\n",
            "                   IF ACTIDINI OF COTRN2AI IS NOT NUMERIC\n",
            "                       MOVE 'Y'     TO WS-ERR-FLG\n",
            "                       MOVE 'Account ID must be Numeric...' TO\n",
            "                                       WS-MESSAGE\n",
            "                       MOVE -1       TO ACTIDINL OF COTRN2AI\n",
            "                       PERFORM SEND-TRNADD-SCREEN\n",
            "                   END-IF\n",
            "                   COMPUTE WS-ACCT-ID-N = FUNCTION NUMVAL(ACTIDINI OF\n",
            "                   COTRN2AI)\n",
            "                   MOVE WS-ACCT-ID-N            TO XREF-ACCT-ID\n",
            "                                                ACTIDINI OF COTRN2AI\n",
            "                   PERFORM READ-CXACAIX-FILE\n",
            "                   MOVE XREF-CARD-NUM         TO CARDNINI OF COTRN2AI\n",
            "               WHEN CARDNINI OF COTRN2AI NOT = SPACES AND LOW-VALUES\n",
            "                   IF CARDNINI OF COTRN2AI IS NOT NUMERIC\n",
            "                       MOVE 'Y'     TO WS-ERR-FLG\n",
            "                       MOVE 'Card Number must be Numeric...' TO\n",
            "                                       WS-MESSAGE\n",
            "                       MOVE -1       TO CARDNINL OF COTRN2AI\n",
            "                       PERFORM SEND-TRNADD-SCREEN\n",
            "                   END-IF\n",
            "                   COMPUTE WS-CARD-NUM-N = FUNCTION NUMVAL(CARDNINI OF\n",
            "                   COTRN2AI)\n",
            "                   MOVE WS-CARD-NUM-N        TO XREF-CARD-NUM\n",
            "                                                CARDNINI OF COTRN2AI\n",
            "                   PERFORM READ-CCXREF-FILE\n",
            "                   MOVE XREF-ACCT-ID         TO ACTIDINI OF COTRN2AI\n",
            "               WHEN OTHER\n",
            "                   MOVE 'Y'     TO WS-ERR-FLG\n",
            "                   MOVE 'Account or Card Number must be entered...' TO\n",
            "                                   WS-MESSAGE\n",
            "                   MOVE -1       TO ACTIDINL OF COTRN2AI\n",
            "                   PERFORM SEND-TRNADD-SCREEN\n"
          ]
        }
      ]
    },
    {
      "cell_type": "markdown",
      "source": [
        "Let's ask Gemini to generate high-level description"
      ],
      "metadata": {
        "id": "x85z2ZncZuYZ"
      },
      "id": "x85z2ZncZuYZ"
    },
    {
      "cell_type": "code",
      "source": [
        "test_chunk = chunks['VALIDATE-INPUT-KEY-FIELDS.']\n",
        "prompt = '''You are an expert in COBOL programming and software documentation.\n",
        "I am providing a piece of a COBOL program, and I need a concise, functional, high-level description of its purpose and functionality.\n",
        "\n",
        "Here is the code:\n",
        "'''\n",
        "response_general = model.generate_content(prompt + test_chunk )\n",
        "print(response_general.text)"
      ],
      "metadata": {
        "colab": {
          "base_uri": "https://localhost:8080/",
          "height": 193
        },
        "id": "3c3G_PJDaLVu",
        "outputId": "aa2be098-ea22-47e4-8f8d-f374b8e2456e"
      },
      "id": "3c3G_PJDaLVu",
      "execution_count": 26,
      "outputs": [
        {
          "output_type": "stream",
          "name": "stdout",
          "text": [
            "This COBOL code segment `VALIDATE-INPUT-KEY-FIELDS` validates user-supplied account ID (ACTIDINI) and card number (CARDNINI) fields from a record (`COTRN2AI`).\n",
            "\n",
            "It first checks if either field contains data.  If only one field is populated, it performs validation on that field:\n",
            "\n",
            "* **Numeric Validation:** It verifies that the input is numeric. If not, it sets an error flag (`WS-ERR-FLG`), creates an error message (`WS-MESSAGE`), sets an error indicator in the input record, and displays the error via `SEND-TRNADD-SCREEN`.\n",
            "* **Data Conversion and Lookup:** If numeric, it converts the input to a numeric value using `NUMVAL`, updates a corresponding cross-reference field (XREF-ACCT-ID or XREF-CARD-NUM), and performs a file lookup (`READ-CXACAIX-FILE` or `READ-CCXREF-FILE`) to potentially update the other key field based on the validated input.\n",
            "\n",
            "If neither field contains data, it sets an error indicating that at least one field must be populated.  In all error cases, it displays the error using the `SEND-TRNADD-SCREEN` routine.  Essentially, the routine ensures data integrity by validating and cross-referencing key fields before proceeding.\n",
            "\n"
          ]
        }
      ]
    },
    {
      "cell_type": "markdown",
      "source": [
        "A more detailed, logical description"
      ],
      "metadata": {
        "id": "SNZiN3G-Zy9R"
      },
      "id": "SNZiN3G-Zy9R"
    },
    {
      "cell_type": "code",
      "source": [
        "test_chunk = chunks['VALIDATE-INPUT-KEY-FIELDS.']\n",
        "prompt = '''You are an expert in COBOL programming and code analysis. I am providing a piece of COBOL program, and I need a detailed, logical, step-by-step explanation of its workflow and logic.\n",
        "\n",
        "Focus on:\n",
        "1. The sequence of operations in the code. Do not add pieces of code that you describe.\n",
        "2. Concise of control flow (e.g., conditional statements, loops, and procedure calls).\n",
        "3. How data is processed, validated, and transformed at each step.\n",
        "4. Specific mentions of key paragraphs or sections and their roles.\n",
        "\n",
        "Be very concise.\n",
        "Here is the code:\n",
        "'''\n",
        "response_logical = model.generate_content(prompt + test_chunk )\n",
        "print(response_logical.text)"
      ],
      "metadata": {
        "colab": {
          "base_uri": "https://localhost:8080/",
          "height": 332
        },
        "id": "Qda2yDKFZR64",
        "outputId": "80b5d9e7-4057-483b-d725-7ae8fa9b0e8b"
      },
      "id": "Qda2yDKFZR64",
      "execution_count": 29,
      "outputs": [
        {
          "output_type": "stream",
          "name": "stdout",
          "text": [
            "The `VALIDATE-INPUT-KEY-FIELDS` paragraph validates input fields `ACTIDINI` (Account ID) and `CARDNINI` (Card Number) from the `COTRN2AI` record.\n",
            "\n",
            "1. **Evaluation:** It uses an `EVALUATE` statement to check conditions sequentially.\n",
            "\n",
            "2. **Account ID Validation:** If `ACTIDINI` is not blank or low-values:\n",
            "    - It checks if `ACTIDINI` is numeric. If not, it sets an error flag (`WS-ERR-FLG`), an error message (`WS-MESSAGE`), sets `ACTIDINL` to -1, and calls `SEND-TRNADD-SCREEN` to display the error.\n",
            "    - If numeric, it converts `ACTIDINI` to a numeric value (`WS-ACCT-ID-N` using `NUMVAL`), moves it to `XREF-ACCT-ID` and `ACTIDINI` itself, and calls `READ-CXACAIX-FILE` (presumably to look up account information).  The result is then used to populate `CARDNINI` from `XREF-CARD-NUM`.\n",
            "\n",
            "\n",
            "3. **Card Number Validation:** If `CARDNINI` is not blank or low-values (and the previous WHEN clause was false):\n",
            "    - It checks if `CARDNINI` is numeric. If not, similar error handling as above occurs, setting the error flag, message, `CARDNINL` to -1, and calling `SEND-TRNADD-SCREEN`.\n",
            "    - If numeric, it converts `CARDNINI` to a numeric value (`WS-CARD-NUM-N`), moves it to `XREF-CARD-NUM` and `CARDNINI`, and calls `READ-CCXREF-FILE` (presumably to look up card information), with the result used to populate `ACTIDINI` from `XREF-ACCT-ID`.\n",
            "\n",
            "4. **Error Handling (WHEN OTHER):** If neither `ACTIDINI` nor `CARDNINI` are valid, a generic error is set, including the error flag, a message, `ACTIDINL` to -1, and calling `SEND-TRNADD-SCREEN`.\n",
            "\n",
            "5. **`SEND-TRNADD-SCREEN`:** This paragraph (not shown) presumably displays the input screen, including any error messages.  `READ-CXACAIX-FILE` and `READ-CCXREF-FILE` are also external paragraphs performing file I/O operations.  The program uses  `NUMVAL` function to convert string to numeric values.  The code updates the `COTRN2AI` record with validated and transformed data.\n",
            "\n"
          ]
        }
      ]
    },
    {
      "cell_type": "code",
      "source": [],
      "metadata": {
        "id": "mUIqtGclaKfX"
      },
      "id": "mUIqtGclaKfX",
      "execution_count": null,
      "outputs": []
    }
  ],
  "metadata": {
    "kernelspec": {
      "display_name": "Python 3",
      "language": "python",
      "name": "python3"
    },
    "language_info": {
      "codemirror_mode": {
        "name": "ipython",
        "version": 3
      },
      "file_extension": ".py",
      "mimetype": "text/x-python",
      "name": "python",
      "nbconvert_exporter": "python",
      "pygments_lexer": "ipython3",
      "version": "3.10.10"
    },
    "colab": {
      "provenance": [],
      "name": "kondratyeva.trading (Jan 12, 2025, 9:38:26 PM)"
    }
  },
  "nbformat": 4,
  "nbformat_minor": 5
}
